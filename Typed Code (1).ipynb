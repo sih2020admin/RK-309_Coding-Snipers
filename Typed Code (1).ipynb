{
 "cells": [
  {
   "cell_type": "code",
   "execution_count": null,
   "metadata": {},
   "outputs": [],
   "source": [
    "import tensorflow as tf\n",
    "import dib\n",
    "import cv2\n",
    "import os\n",
    "import re\n",
    "import json\n",
    "from pylab import *\n",
    "from PIL import Image,ImageChops,ImageEnhance\n",
    "from matplotlib import pyplot\n",
    "from matplotlib.patches import Rectangle\n",
    "from mtcnn.mtcbb import MTCNN\n",
    "import matplotlib.pyplot as plt"
   ]
  },
  {
   "cell_type": "code",
   "execution_count": null,
   "metadata": {},
   "outputs": [],
   "source": [
    "train_frame_folder='train_sample_videos'\n",
    "with open(os.path.join(train_frame_folder,'metadat.json'),'r') as file:\n",
    "    data=json.load(file)\n",
    "list_of_train_data=[f for f in os.listdir(train_frame_folder) if f.endswith('.mp4')]\n",
    "detector=dlib.get_frontal_face_detector()\n",
    "for vid in list_of_train_data:\n",
    "    count=0\n",
    "    cap=cv2.VideoCapture(os.path.join(train_frame_folder,vid))\n",
    "    frameRate=cap.get(5)\n",
    "    while cap.isOpened():\n",
    "        frameId=cap.get(1)\n",
    "        ret,frame=cap.read()\n",
    "        if ret!=True:\n",
    "            break\n",
    "        if frameId % ((int(frameRate)+1)*1)==0:\n",
    "            #create the detector,using default weights\n",
    "            detector=MTCNN()\n",
    "            faces=detector.detect_faces(frame)\n",
    "            for i,d in enumerate(faces):\n",
    "                x1=d['box'][0]\n",
    "                y1=d['box'][1]\n",
    "                x2=d['box'][2]\n",
    "                y2=d['box'][3]\n",
    "                crop_img=frame[y1:y1+y2,x1:x1+x2,:]\n",
    "                if data[vid]['label']=='REAL':\n",
    "                    cv2.imwrite('dataset1/real/'+vid.split('.')[0]+'_'+str(count)+'.png',cv2.resize(crop_img,(128,128)))\n",
    "                elif data[vid]['label']=='FAKE':\n",
    "                    cv2.imwrite('dataset1/fake/'+vid.split('.')[0]+'_'+str(count)+'.png',cv2.resize(crop_img,(128,128)))\n",
    "                count+=1"
   ]
  }
 ],
 "metadata": {
  "kernelspec": {
   "display_name": "Python 3",
   "language": "python",
   "name": "python3"
  },
  "language_info": {
   "codemirror_mode": {
    "name": "ipython",
    "version": 3
   },
   "file_extension": ".py",
   "mimetype": "text/x-python",
   "name": "python",
   "nbconvert_exporter": "python",
   "pygments_lexer": "ipython3",
   "version": "3.7.3"
  }
 },
 "nbformat": 4,
 "nbformat_minor": 2
}
